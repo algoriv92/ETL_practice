{
 "cells": [
  {
   "cell_type": "markdown",
   "id": "2b48a870-4d10-460b-9ba9-eb1d5d38248c",
   "metadata": {},
   "source": [
    "# ETL Exercises\n",
    "\n",
    "## Plain Text\n",
    "\n",
    "### **Exercise 1**"
   ]
  },
  {
   "cell_type": "markdown",
   "id": "a2b80147-114d-4468-b08d-7289b1c49856",
   "metadata": {},
   "source": [
    "With pandas, from *hipotecas_lectura* file read only the data from the second \n",
    "semester of 2020, and including somehow the names of the columns."
   ]
  },
  {
   "cell_type": "code",
   "execution_count": null,
   "id": "60c4ceb7-4379-450d-afd4-b86e8c26911a",
   "metadata": {},
   "outputs": [],
   "source": [
    "import pandas as pd\n",
    "\n",
    "hipotecas = pd.read_csv('hipotecas_lectura.csv')\n",
    "hipotecas.head()"
   ]
  },
  {
   "cell_type": "markdown",
   "id": "71b94c04-045b-4719-b5df-1b6df6fd58eb",
   "metadata": {},
   "source": [
    "Apreciamos que el ```read_csv``` funciona bien, pero sólo queremos el 2º semestre del 2020, como nos dice en el ejercicio: "
   ]
  },
  {
   "cell_type": "code",
   "execution_count": null,
   "id": "cbd186ae-6bd2-4782-9b6c-dc7856942306",
   "metadata": {},
   "outputs": [],
   "source": [
    "\n",
    "hipotecas = pd.read_csv('hipotecas_lectura.csv', skiprows=7, nrows=6, names = cols)\n",
    "hipotecas"
   ]
  },
  {
   "cell_type": "markdown",
   "id": "a2428018-2abc-4cbb-bad5-39704e7fbd7c",
   "metadata": {},
   "source": [
    "Tenemos las filas del segundo cuatrimestre del 2020, ahora vamos a sacar los nombres de las columnas que son los nombres de las CCAA, el periodo y el Total Nacional."
   ]
  },
  {
   "cell_type": "code",
   "execution_count": null,
   "id": "47353606-6589-464e-8672-571d033c4467",
   "metadata": {},
   "outputs": [],
   "source": [
    "list(hipotecas.columns)"
   ]
  },
  {
   "cell_type": "markdown",
   "id": "68898243-9393-4013-8178-dc780d3f4241",
   "metadata": {},
   "source": [
    "**Otra alternativa**"
   ]
  },
  {
   "cell_type": "code",
   "execution_count": null,
   "id": "e4ce495b-1631-4954-b143-2247ccfa31f7",
   "metadata": {},
   "outputs": [],
   "source": [
    "hipotecas = pd.read_csv('hipotecas_lectura.csv', skiprows= range(1, 7), nrows=6, header=0)\n",
    "hipotecas"
   ]
  },
  {
   "cell_type": "markdown",
   "id": "4e4bf743-8753-4b39-a992-beab2228f27f",
   "metadata": {},
   "source": [
    "### **Exercise 2**"
   ]
  },
  {
   "cell_type": "markdown",
   "id": "8218f1e9-a3ee-49dd-a2fe-a20c8084fa01",
   "metadata": {},
   "source": [
    "With readr, from the ```hipotecas_lectura``` file read only the data from the first semester of 2020, and including somehow the names of the columns."
   ]
  },
  {
   "cell_type": "markdown",
   "id": "a1f58485-8b25-4414-b0dc-df68268484f8",
   "metadata": {},
   "source": [
    "*El ejercicio como tal, se puede realizar en Python con la librería de Pandas, es exactamente igual que el ejercicio 1*"
   ]
  },
  {
   "cell_type": "code",
   "execution_count": null,
   "id": "035f2377-d305-461f-a5cf-2fdfbbed1661",
   "metadata": {},
   "outputs": [],
   "source": [
    "pd.read_csv('hipotecas_lectura.csv', skiprows = 12, nrows = 6, names = cols)"
   ]
  },
  {
   "cell_type": "markdown",
   "id": "66c7567a-7fe2-4940-b011-b26fbb8c4e71",
   "metadata": {},
   "source": [
    "### **Exercise 3**"
   ]
  },
  {
   "cell_type": "markdown",
   "id": "8597bb02-c6c7-40be-9aba-a060ac90d25e",
   "metadata": {},
   "source": [
    "Try your best reading the original file downloaded from the INE's site, ```hipotecas_numero_ine.csv```. *Remark*: you may need to specify that the encoding is \"ISO-8859-2\"."
   ]
  },
  {
   "cell_type": "code",
   "execution_count": null,
   "id": "3590db33-fc18-4a8a-8a62-6488e6aafbed",
   "metadata": {},
   "outputs": [],
   "source": [
    "import pandas as pd\n",
    "\n",
    "hip_ine = pd.read_csv('hipotecas_numero_ine.csv', \n",
    "                      skiprows=6, \n",
    "                      nrows=18, \n",
    "                      encoding='ISO-8859-2', \n",
    "                      delimiter=';')\n",
    "hip_ine.head()"
   ]
  },
  {
   "cell_type": "markdown",
   "id": "0cfc8a52-bdc6-491a-9938-8416a6b18900",
   "metadata": {},
   "source": [
    "## Excel\n",
    "\n",
    "### **Exercise 1**\n",
    "\n",
    "Read with Python and ```pandas``` the second sheet of the ```ejemplos_lecturas.xlsx``` file."
   ]
  },
  {
   "cell_type": "code",
   "execution_count": null,
   "id": "bc55a261-aeb4-49c0-96e8-f9573168e0dd",
   "metadata": {},
   "outputs": [],
   "source": [
    "ejemplo = pd.read_excel('ejemplos_lectura.xlsx')"
   ]
  },
  {
   "cell_type": "markdown",
   "id": "b19096cd-5a19-4992-94a4-9d00dc4d720f",
   "metadata": {},
   "source": [
    "Hay que revisar el Excel porque resulta que la segunda hoja que pide el ejercicio está en oculto. Para revisarlo, dentro Excel, se clica con el botón derecho del ratón al nombre de la hoja y luego en 'Mostrar'. "
   ]
  },
  {
   "cell_type": "code",
   "execution_count": null,
   "id": "389ace0f-d1f0-42e0-855f-a41b9afb4a24",
   "metadata": {},
   "outputs": [],
   "source": [
    "primera_hoja = pd.read_excel('ejemplos_lectura.xlsx', sheet_name='Fechas')\n",
    "segunda_hoja = pd.read_excel('ejemplos_lectura.xlsx', sheet_name='Holi')"
   ]
  },
  {
   "cell_type": "code",
   "execution_count": null,
   "id": "23ff761a-e385-40f8-84a1-42c68d046fd3",
   "metadata": {},
   "outputs": [],
   "source": [
    "primera_hoja"
   ]
  },
  {
   "cell_type": "code",
   "execution_count": null,
   "id": "3cd41ef3-9409-448c-b97d-7bca459e7d4f",
   "metadata": {},
   "outputs": [],
   "source": [
    "segunda_hoja"
   ]
  },
  {
   "cell_type": "markdown",
   "id": "b1e61929-c343-48f0-adcd-fe399a63a965",
   "metadata": {},
   "source": [
    "## SQL\n",
    "### Exercise 2\n",
    "\n",
    "In R and Python, from **indexKaggle.SQlite** download a table containing all the\n",
    "close prices and volume since 2007 until 2010 whose currency is dollars or euros."
   ]
  },
  {
   "cell_type": "code",
   "execution_count": null,
   "id": "6296151d-65aa-430b-9762-83da606752f3",
   "metadata": {},
   "outputs": [],
   "source": [
    "import pandas as pd\n",
    "from sqlalchemy import create_engine\n",
    "engine = create_engine('sqlite:///../indexKaggle.sqlite')"
   ]
  },
  {
   "cell_type": "code",
   "execution_count": null,
   "id": "4a9b2dea-aa9d-4b5d-9e8a-671734404480",
   "metadata": {},
   "outputs": [],
   "source": [
    "an_entire_table = pd.read_sql(Select * From 'IndexMeta' LIMIT 0, 30) \n",
    "an_entire_table.head()"
   ]
  },
  {
   "cell_type": "code",
   "execution_count": null,
   "id": "7a4a9c0c-6c8c-4f94-b0b6-94babe4f8658",
   "metadata": {},
   "outputs": [],
   "source": []
  },
  {
   "cell_type": "code",
   "execution_count": null,
   "id": "81780e46-9ecf-403a-82e2-a86db6fed0b3",
   "metadata": {},
   "outputs": [],
   "source": [
    "# import pandas as pd\n",
    "# from sqlalchemy import create_engine\n",
    "engine = create_engine('elections2016.sqlite')\n",
    "query = '''\n",
    "SELECT p.state, p.enddate, p.grade, p.samplesize, p.adjpoll_clinton, \n",
    "p.adjpoll_trump, r.electoral_votes, r.clinton, r.trump\n",
    "FROM Polls p INNER JOIN Results r ON(p.state == r.state)\n",
    "WHERE p.state == 'Ohio' OR p.state == 'Pennsylvania'\n",
    "ORDER BY p.enddate DESC\n",
    "'''\n",
    "table = pd.read_sql(query, engine)\n",
    "table.head()\n"
   ]
  }
 ],
 "metadata": {
  "kernelspec": {
   "display_name": "Python 3 (ipykernel)",
   "language": "python",
   "name": "python3"
  },
  "language_info": {
   "codemirror_mode": {
    "name": "ipython",
    "version": 3
   },
   "file_extension": ".py",
   "mimetype": "text/x-python",
   "name": "python",
   "nbconvert_exporter": "python",
   "pygments_lexer": "ipython3",
   "version": "3.9.7"
  }
 },
 "nbformat": 4,
 "nbformat_minor": 5
}
