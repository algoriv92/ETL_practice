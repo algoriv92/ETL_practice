{
 "cells": [
  {
   "cell_type": "markdown",
   "metadata": {
    "id": "_P7mLpqh3fKE"
   },
   "source": [
    "# Primeros pasos con Big Query"
   ]
  },
  {
   "cell_type": "markdown",
   "metadata": {
    "id": "6fgfNwaO3e2V"
   },
   "source": [
    "*1) Conexión a la base de datos*"
   ]
  },
  {
   "cell_type": "code",
   "execution_count": 1,
   "metadata": {
    "colab": {
     "base_uri": "https://localhost:8080/"
    },
    "id": "SqDsFmK43dhy",
    "outputId": "7d8f174e-6b2a-436e-9e3e-d03ecb650946"
   },
   "outputs": [
    {
     "name": "stdout",
     "output_type": "stream",
     "text": [
      "Authenticated\n"
     ]
    }
   ],
   "source": [
    "from google.colab import auth\n",
    "auth.authenticate_user()\n",
    "print('Authenticated')"
   ]
  },
  {
   "cell_type": "markdown",
   "metadata": {
    "id": "zQzsXMGp3yPN"
   },
   "source": [
    "*2) Declare the Cloud project ID which will be used throughout this notebook*"
   ]
  },
  {
   "cell_type": "code",
   "execution_count": 3,
   "metadata": {
    "id": "U2UfVYxV5OyK"
   },
   "outputs": [],
   "source": [
    "project_id = 'apt-bonbon-331010'\n",
    "\n",
    "from google.cloud import bigquery\n",
    "\n",
    "client = bigquery.Client(project=project_id)"
   ]
  },
  {
   "cell_type": "markdown",
   "metadata": {
    "id": "ZDzoDZuP5ZUK"
   },
   "source": [
    "## EJERCICIOS DE CLASE"
   ]
  },
  {
   "cell_type": "markdown",
   "metadata": {
    "id": "89HVTR_B5dSA"
   },
   "source": [
    "**Exercise 1. How many different series are there in bls.employment_hours_earnings_series? Use the series_title for doing this.**"
   ]
  },
  {
   "cell_type": "code",
   "execution_count": 4,
   "metadata": {
    "id": "wznT3vDc5kTa"
   },
   "outputs": [],
   "source": [
    "query_bls_1 = '''\n",
    "SELECT COUNT (series_title)\n",
    "FROM `bigquery-public-data.bls.employment_hours_earnings_series`  \n",
    " '''"
   ]
  },
  {
   "cell_type": "code",
   "execution_count": 6,
   "metadata": {
    "id": "5CvdPdWw5qFe"
   },
   "outputs": [],
   "source": [
    "cosa_auxiliar1 = client.query(query_bls_1) \n",
    "df_hacker_1 = cosa_auxiliar1.to_dataframe()"
   ]
  },
  {
   "cell_type": "code",
   "execution_count": 7,
   "metadata": {
    "colab": {
     "base_uri": "https://localhost:8080/",
     "height": 80
    },
    "id": "Bi2pr1qU5vo4",
    "outputId": "a74b8e7a-0cf7-4569-a641-2087790225cc"
   },
   "outputs": [
    {
     "data": {
      "text/html": [
       "<div>\n",
       "<style scoped>\n",
       "    .dataframe tbody tr th:only-of-type {\n",
       "        vertical-align: middle;\n",
       "    }\n",
       "\n",
       "    .dataframe tbody tr th {\n",
       "        vertical-align: top;\n",
       "    }\n",
       "\n",
       "    .dataframe thead th {\n",
       "        text-align: right;\n",
       "    }\n",
       "</style>\n",
       "<table border=\"1\" class=\"dataframe\">\n",
       "  <thead>\n",
       "    <tr style=\"text-align: right;\">\n",
       "      <th></th>\n",
       "      <th>f0_</th>\n",
       "    </tr>\n",
       "  </thead>\n",
       "  <tbody>\n",
       "    <tr>\n",
       "      <th>0</th>\n",
       "      <td>25285</td>\n",
       "    </tr>\n",
       "  </tbody>\n",
       "</table>\n",
       "</div>"
      ],
      "text/plain": [
       "     f0_\n",
       "0  25285"
      ]
     },
     "execution_count": 7,
     "metadata": {},
     "output_type": "execute_result"
    }
   ],
   "source": [
    "df_hacker_1"
   ]
  },
  {
   "cell_type": "markdown",
   "metadata": {
    "id": "B3jh5Cox54Oq"
   },
   "source": [
    "**Exercise 2. How many series are there whose title contains the words weekly, earnings and data? The three of them and in that order.**"
   ]
  },
  {
   "cell_type": "code",
   "execution_count": 8,
   "metadata": {
    "id": "pMhaZUgX53Gd"
   },
   "outputs": [],
   "source": [
    "query_bls_2 = '''\n",
    "SELECT DISTINCT series_title\n",
    "FROM `bigquery-public-data.bls.employment_hours_earnings_series`\n",
    "WHERE series_title LIKE '%weekly%earnings%data%'\n",
    "'''"
   ]
  },
  {
   "cell_type": "code",
   "execution_count": 10,
   "metadata": {
    "id": "8NbguOKp6HSc"
   },
   "outputs": [],
   "source": [
    "cosa_auxiliar2 = client.query(query_bls_2)\n",
    "df_hacker_2 = cosa_auxiliar2.to_dataframe()"
   ]
  },
  {
   "cell_type": "code",
   "execution_count": 11,
   "metadata": {
    "colab": {
     "base_uri": "https://localhost:8080/",
     "height": 295
    },
    "id": "im5Au9o26Ub9",
    "outputId": "b8189f65-a538-4e63-eb9a-5d39ead1d25d"
   },
   "outputs": [
    {
     "data": {
      "text/html": [
       "<div>\n",
       "<style scoped>\n",
       "    .dataframe tbody tr th:only-of-type {\n",
       "        vertical-align: middle;\n",
       "    }\n",
       "\n",
       "    .dataframe tbody tr th {\n",
       "        vertical-align: top;\n",
       "    }\n",
       "\n",
       "    .dataframe thead th {\n",
       "        text-align: right;\n",
       "    }\n",
       "</style>\n",
       "<table border=\"1\" class=\"dataframe\">\n",
       "  <thead>\n",
       "    <tr style=\"text-align: right;\">\n",
       "      <th></th>\n",
       "      <th>series_title</th>\n",
       "    </tr>\n",
       "  </thead>\n",
       "  <tbody>\n",
       "    <tr>\n",
       "      <th>0</th>\n",
       "      <td>Average weekly earnings of all employees, data...</td>\n",
       "    </tr>\n",
       "    <tr>\n",
       "      <th>1</th>\n",
       "      <td>Average weekly earnings of all employees, data...</td>\n",
       "    </tr>\n",
       "    <tr>\n",
       "      <th>2</th>\n",
       "      <td>Average weekly earnings of all employees, 1982...</td>\n",
       "    </tr>\n",
       "    <tr>\n",
       "      <th>3</th>\n",
       "      <td>Average weekly earnings of all employees, 1982...</td>\n",
       "    </tr>\n",
       "    <tr>\n",
       "      <th>4</th>\n",
       "      <td>Average weekly earnings of production and nons...</td>\n",
       "    </tr>\n",
       "    <tr>\n",
       "      <th>5</th>\n",
       "      <td>Average weekly earnings of production and nons...</td>\n",
       "    </tr>\n",
       "    <tr>\n",
       "      <th>6</th>\n",
       "      <td>Average weekly earnings of production and nons...</td>\n",
       "    </tr>\n",
       "    <tr>\n",
       "      <th>7</th>\n",
       "      <td>Average weekly earnings of production and nons...</td>\n",
       "    </tr>\n",
       "  </tbody>\n",
       "</table>\n",
       "</div>"
      ],
      "text/plain": [
       "                                        series_title\n",
       "0  Average weekly earnings of all employees, data...\n",
       "1  Average weekly earnings of all employees, data...\n",
       "2  Average weekly earnings of all employees, 1982...\n",
       "3  Average weekly earnings of all employees, 1982...\n",
       "4  Average weekly earnings of production and nons...\n",
       "5  Average weekly earnings of production and nons...\n",
       "6  Average weekly earnings of production and nons...\n",
       "7  Average weekly earnings of production and nons..."
      ]
     },
     "execution_count": 11,
     "metadata": {},
     "output_type": "execute_result"
    }
   ],
   "source": [
    "df_hacker_2"
   ]
  },
  {
   "cell_type": "markdown",
   "metadata": {
    "id": "wIknK4FI6XXp"
   },
   "source": [
    "**Exercise 3. From the table bls.employment_hours_earnings calculate the yearly mean and standard deviation of the series Average weekly earnings of production and nonsupervisory employees, data processing, hosting and related services, seasonally adjusted. Order the result by year.**"
   ]
  },
  {
   "cell_type": "code",
   "execution_count": 12,
   "metadata": {
    "id": "6FjUsaBS6Z5R"
   },
   "outputs": [],
   "source": [
    "query_bls_3 = '''\n",
    "SELECT AVG(value), STDDEV(value)\n",
    "FROM `bigquery-public-data.bls.employment_hours_earnings`\n",
    "WHERE series_title = 'Average weekly earnings of production and nonsupervisory employees, data processing, hosting and related services, seasonally adjusted'\n",
    "GROUP BY year\n",
    "ORDER BY year DESC\n",
    "'''"
   ]
  },
  {
   "cell_type": "code",
   "execution_count": 19,
   "metadata": {
    "colab": {
     "base_uri": "https://localhost:8080/",
     "height": 1000
    },
    "id": "QzgunfZ86dbg",
    "outputId": "4062c05f-5c2e-4e57-933a-e035d168833b"
   },
   "outputs": [
    {
     "data": {
      "text/html": [
       "<div>\n",
       "<style scoped>\n",
       "    .dataframe tbody tr th:only-of-type {\n",
       "        vertical-align: middle;\n",
       "    }\n",
       "\n",
       "    .dataframe tbody tr th {\n",
       "        vertical-align: top;\n",
       "    }\n",
       "\n",
       "    .dataframe thead th {\n",
       "        text-align: right;\n",
       "    }\n",
       "</style>\n",
       "<table border=\"1\" class=\"dataframe\">\n",
       "  <thead>\n",
       "    <tr style=\"text-align: right;\">\n",
       "      <th></th>\n",
       "      <th>f0_</th>\n",
       "      <th>f1_</th>\n",
       "    </tr>\n",
       "  </thead>\n",
       "  <tbody>\n",
       "    <tr>\n",
       "      <th>0</th>\n",
       "      <td>1615.951111</td>\n",
       "      <td>60.236759</td>\n",
       "    </tr>\n",
       "    <tr>\n",
       "      <th>1</th>\n",
       "      <td>1469.720000</td>\n",
       "      <td>21.664852</td>\n",
       "    </tr>\n",
       "    <tr>\n",
       "      <th>2</th>\n",
       "      <td>1397.097500</td>\n",
       "      <td>44.741704</td>\n",
       "    </tr>\n",
       "    <tr>\n",
       "      <th>3</th>\n",
       "      <td>1226.966667</td>\n",
       "      <td>46.800004</td>\n",
       "    </tr>\n",
       "    <tr>\n",
       "      <th>4</th>\n",
       "      <td>1241.620000</td>\n",
       "      <td>34.161704</td>\n",
       "    </tr>\n",
       "    <tr>\n",
       "      <th>5</th>\n",
       "      <td>1170.021667</td>\n",
       "      <td>29.445497</td>\n",
       "    </tr>\n",
       "    <tr>\n",
       "      <th>6</th>\n",
       "      <td>1096.438333</td>\n",
       "      <td>18.554491</td>\n",
       "    </tr>\n",
       "    <tr>\n",
       "      <th>7</th>\n",
       "      <td>1133.840833</td>\n",
       "      <td>10.012858</td>\n",
       "    </tr>\n",
       "    <tr>\n",
       "      <th>8</th>\n",
       "      <td>1108.400833</td>\n",
       "      <td>10.917092</td>\n",
       "    </tr>\n",
       "    <tr>\n",
       "      <th>9</th>\n",
       "      <td>1001.259167</td>\n",
       "      <td>55.838259</td>\n",
       "    </tr>\n",
       "    <tr>\n",
       "      <th>10</th>\n",
       "      <td>941.801667</td>\n",
       "      <td>28.128682</td>\n",
       "    </tr>\n",
       "    <tr>\n",
       "      <th>11</th>\n",
       "      <td>1020.791667</td>\n",
       "      <td>12.814122</td>\n",
       "    </tr>\n",
       "    <tr>\n",
       "      <th>12</th>\n",
       "      <td>944.084167</td>\n",
       "      <td>36.401756</td>\n",
       "    </tr>\n",
       "    <tr>\n",
       "      <th>13</th>\n",
       "      <td>867.811667</td>\n",
       "      <td>24.669993</td>\n",
       "    </tr>\n",
       "    <tr>\n",
       "      <th>14</th>\n",
       "      <td>816.615000</td>\n",
       "      <td>6.452528</td>\n",
       "    </tr>\n",
       "    <tr>\n",
       "      <th>15</th>\n",
       "      <td>762.151667</td>\n",
       "      <td>18.621727</td>\n",
       "    </tr>\n",
       "    <tr>\n",
       "      <th>16</th>\n",
       "      <td>734.820833</td>\n",
       "      <td>5.171085</td>\n",
       "    </tr>\n",
       "    <tr>\n",
       "      <th>17</th>\n",
       "      <td>745.658333</td>\n",
       "      <td>5.997234</td>\n",
       "    </tr>\n",
       "    <tr>\n",
       "      <th>18</th>\n",
       "      <td>732.279167</td>\n",
       "      <td>6.452362</td>\n",
       "    </tr>\n",
       "    <tr>\n",
       "      <th>19</th>\n",
       "      <td>699.659167</td>\n",
       "      <td>23.961560</td>\n",
       "    </tr>\n",
       "    <tr>\n",
       "      <th>20</th>\n",
       "      <td>642.747500</td>\n",
       "      <td>19.586787</td>\n",
       "    </tr>\n",
       "    <tr>\n",
       "      <th>21</th>\n",
       "      <td>611.553333</td>\n",
       "      <td>12.390835</td>\n",
       "    </tr>\n",
       "    <tr>\n",
       "      <th>22</th>\n",
       "      <td>567.302500</td>\n",
       "      <td>4.961092</td>\n",
       "    </tr>\n",
       "    <tr>\n",
       "      <th>23</th>\n",
       "      <td>561.050833</td>\n",
       "      <td>9.099447</td>\n",
       "    </tr>\n",
       "    <tr>\n",
       "      <th>24</th>\n",
       "      <td>536.405000</td>\n",
       "      <td>7.307433</td>\n",
       "    </tr>\n",
       "    <tr>\n",
       "      <th>25</th>\n",
       "      <td>503.326667</td>\n",
       "      <td>14.214563</td>\n",
       "    </tr>\n",
       "    <tr>\n",
       "      <th>26</th>\n",
       "      <td>482.515000</td>\n",
       "      <td>5.172509</td>\n",
       "    </tr>\n",
       "    <tr>\n",
       "      <th>27</th>\n",
       "      <td>472.301667</td>\n",
       "      <td>2.957649</td>\n",
       "    </tr>\n",
       "    <tr>\n",
       "      <th>28</th>\n",
       "      <td>466.820833</td>\n",
       "      <td>5.165284</td>\n",
       "    </tr>\n",
       "    <tr>\n",
       "      <th>29</th>\n",
       "      <td>453.445000</td>\n",
       "      <td>9.193349</td>\n",
       "    </tr>\n",
       "    <tr>\n",
       "      <th>30</th>\n",
       "      <td>423.920833</td>\n",
       "      <td>9.149005</td>\n",
       "    </tr>\n",
       "    <tr>\n",
       "      <th>31</th>\n",
       "      <td>407.720000</td>\n",
       "      <td>3.012872</td>\n",
       "    </tr>\n",
       "  </tbody>\n",
       "</table>\n",
       "</div>"
      ],
      "text/plain": [
       "            f0_        f1_\n",
       "0   1615.951111  60.236759\n",
       "1   1469.720000  21.664852\n",
       "2   1397.097500  44.741704\n",
       "3   1226.966667  46.800004\n",
       "4   1241.620000  34.161704\n",
       "5   1170.021667  29.445497\n",
       "6   1096.438333  18.554491\n",
       "7   1133.840833  10.012858\n",
       "8   1108.400833  10.917092\n",
       "9   1001.259167  55.838259\n",
       "10   941.801667  28.128682\n",
       "11  1020.791667  12.814122\n",
       "12   944.084167  36.401756\n",
       "13   867.811667  24.669993\n",
       "14   816.615000   6.452528\n",
       "15   762.151667  18.621727\n",
       "16   734.820833   5.171085\n",
       "17   745.658333   5.997234\n",
       "18   732.279167   6.452362\n",
       "19   699.659167  23.961560\n",
       "20   642.747500  19.586787\n",
       "21   611.553333  12.390835\n",
       "22   567.302500   4.961092\n",
       "23   561.050833   9.099447\n",
       "24   536.405000   7.307433\n",
       "25   503.326667  14.214563\n",
       "26   482.515000   5.172509\n",
       "27   472.301667   2.957649\n",
       "28   466.820833   5.165284\n",
       "29   453.445000   9.193349\n",
       "30   423.920833   9.149005\n",
       "31   407.720000   3.012872"
      ]
     },
     "execution_count": 19,
     "metadata": {},
     "output_type": "execute_result"
    }
   ],
   "source": [
    "cosa_auxiliar_3 = client.query(query_bls_3)\n",
    "cosa_auxiliar_3.to_dataframe()"
   ]
  },
  {
   "cell_type": "markdown",
   "metadata": {
    "id": "brO6aFxN6m_E"
   },
   "source": [
    "**Exercise 4. Get the yearly average unemployment from the table unemployment_cps and join it to the previous query. The name of the series is (Unadj) Total unemployed plus discouraged workers, as a percent of the civilian labor force plus discouraged workers. The idea is doing one only SQL query. The final table will have four columns: year, average percentage of unemployment, average weekly earnings and std of weekly earnings.**"
   ]
  },
  {
   "cell_type": "code",
   "execution_count": 15,
   "metadata": {
    "id": "K2UqS6U96qz4"
   },
   "outputs": [],
   "source": [
    "query_bls_4 = '''\n",
    "SELECT AVG(value)\n",
    "FROM `bigquery-public-data.bls.unemployment_cps`\n",
    "WHERE series_title = '(Unadj) Total unemployed plus discouraged workers, as a percent of the civilian labor force plus discouraged workers'\n",
    "'''"
   ]
  },
  {
   "cell_type": "code",
   "execution_count": 16,
   "metadata": {
    "id": "Hzz8fjVl6ubb"
   },
   "outputs": [],
   "source": [
    "cosa_auxiliar4 = client.query(query_bls_4)\n",
    "df_hacker_4 = cosa_auxiliar4.to_dataframe()"
   ]
  },
  {
   "cell_type": "code",
   "execution_count": 18,
   "metadata": {
    "colab": {
     "base_uri": "https://localhost:8080/",
     "height": 80
    },
    "id": "lknqayzS6vzE",
    "outputId": "cfb9b743-5d4a-497e-e177-b5fb88e2b948"
   },
   "outputs": [
    {
     "data": {
      "text/html": [
       "<div>\n",
       "<style scoped>\n",
       "    .dataframe tbody tr th:only-of-type {\n",
       "        vertical-align: middle;\n",
       "    }\n",
       "\n",
       "    .dataframe tbody tr th {\n",
       "        vertical-align: top;\n",
       "    }\n",
       "\n",
       "    .dataframe thead th {\n",
       "        text-align: right;\n",
       "    }\n",
       "</style>\n",
       "<table border=\"1\" class=\"dataframe\">\n",
       "  <thead>\n",
       "    <tr style=\"text-align: right;\">\n",
       "      <th></th>\n",
       "      <th>f0_</th>\n",
       "    </tr>\n",
       "  </thead>\n",
       "  <tbody>\n",
       "    <tr>\n",
       "      <th>0</th>\n",
       "      <td>6.129979</td>\n",
       "    </tr>\n",
       "  </tbody>\n",
       "</table>\n",
       "</div>"
      ],
      "text/plain": [
       "        f0_\n",
       "0  6.129979"
      ]
     },
     "execution_count": 18,
     "metadata": {},
     "output_type": "execute_result"
    }
   ],
   "source": [
    "df_hacker_4"
   ]
  }
 ],
 "metadata": {
  "colab": {
   "collapsed_sections": [],
   "name": "Ejercicio Bureau of labor statistics.ipynb",
   "provenance": []
  },
  "kernelspec": {
   "display_name": "Python 3",
   "language": "python",
   "name": "python3"
  },
  "language_info": {
   "codemirror_mode": {
    "name": "ipython",
    "version": 3
   },
   "file_extension": ".py",
   "mimetype": "text/x-python",
   "name": "python",
   "nbconvert_exporter": "python",
   "pygments_lexer": "ipython3",
   "version": "3.8.8"
  }
 },
 "nbformat": 4,
 "nbformat_minor": 1
}
